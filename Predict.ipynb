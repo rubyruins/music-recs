{
 "cells": [
  {
   "cell_type": "code",
   "execution_count": 83,
   "metadata": {},
   "outputs": [],
   "source": [
    "import Recommenders\n",
    "import pandas as pd\n",
    "from sklearn.model_selection import train_test_split"
   ]
  },
  {
   "cell_type": "code",
   "execution_count": 34,
   "metadata": {},
   "outputs": [],
   "source": [
    "songs = pd.read_csv(\"songs.csv\")\n",
    "songs_grouped = pd.read_csv(\"songs_grouped.csv\")"
   ]
  },
  {
   "cell_type": "code",
   "execution_count": 40,
   "metadata": {},
   "outputs": [],
   "source": [
    "train_data, test_data = train_test_split(songs, test_size = 0.20, random_state=0)"
   ]
  },
  {
   "cell_type": "code",
   "execution_count": 49,
   "metadata": {},
   "outputs": [],
   "source": [
    "users = songs['user_id'].unique()\n",
    "user_id = users[35]\n",
    "n_songs = 10"
   ]
  },
  {
   "cell_type": "code",
   "execution_count": 85,
   "metadata": {},
   "outputs": [
    {
     "data": {
      "text/html": [
       "<div>\n",
       "<style scoped>\n",
       "    .dataframe tbody tr th:only-of-type {\n",
       "        vertical-align: middle;\n",
       "    }\n",
       "\n",
       "    .dataframe tbody tr th {\n",
       "        vertical-align: top;\n",
       "    }\n",
       "\n",
       "    .dataframe thead th {\n",
       "        text-align: right;\n",
       "    }\n",
       "</style>\n",
       "<table border=\"1\" class=\"dataframe\">\n",
       "  <thead>\n",
       "    <tr style=\"text-align: right;\">\n",
       "      <th></th>\n",
       "      <th>user_id</th>\n",
       "      <th>name</th>\n",
       "      <th>score</th>\n",
       "      <th>Rank</th>\n",
       "    </tr>\n",
       "  </thead>\n",
       "  <tbody>\n",
       "    <tr>\n",
       "      <td>7127</td>\n",
       "      <td>90dbbbb47979f46ccdbc413d6b6e31cdb55aa58f</td>\n",
       "      <td>Sehr kosmisch - Harmonia</td>\n",
       "      <td>6630</td>\n",
       "      <td>1.0</td>\n",
       "    </tr>\n",
       "    <tr>\n",
       "      <td>9084</td>\n",
       "      <td>90dbbbb47979f46ccdbc413d6b6e31cdb55aa58f</td>\n",
       "      <td>Undo - Björk</td>\n",
       "      <td>5639</td>\n",
       "      <td>2.0</td>\n",
       "    </tr>\n",
       "    <tr>\n",
       "      <td>2068</td>\n",
       "      <td>90dbbbb47979f46ccdbc413d6b6e31cdb55aa58f</td>\n",
       "      <td>Dog Days Are Over (Radio Edit) - Florence + Th...</td>\n",
       "      <td>5592</td>\n",
       "      <td>3.0</td>\n",
       "    </tr>\n",
       "    <tr>\n",
       "      <td>9880</td>\n",
       "      <td>90dbbbb47979f46ccdbc413d6b6e31cdb55aa58f</td>\n",
       "      <td>You're The One - Dwight Yoakam</td>\n",
       "      <td>5143</td>\n",
       "      <td>4.0</td>\n",
       "    </tr>\n",
       "    <tr>\n",
       "      <td>6774</td>\n",
       "      <td>90dbbbb47979f46ccdbc413d6b6e31cdb55aa58f</td>\n",
       "      <td>Revelry - Kings Of Leon</td>\n",
       "      <td>4938</td>\n",
       "      <td>5.0</td>\n",
       "    </tr>\n",
       "    <tr>\n",
       "      <td>7115</td>\n",
       "      <td>90dbbbb47979f46ccdbc413d6b6e31cdb55aa58f</td>\n",
       "      <td>Secrets - OneRepublic</td>\n",
       "      <td>4627</td>\n",
       "      <td>6.0</td>\n",
       "    </tr>\n",
       "    <tr>\n",
       "      <td>3613</td>\n",
       "      <td>90dbbbb47979f46ccdbc413d6b6e31cdb55aa58f</td>\n",
       "      <td>Horn Concerto No. 4 in E flat K495: II. Romanc...</td>\n",
       "      <td>4368</td>\n",
       "      <td>7.0</td>\n",
       "    </tr>\n",
       "    <tr>\n",
       "      <td>2717</td>\n",
       "      <td>90dbbbb47979f46ccdbc413d6b6e31cdb55aa58f</td>\n",
       "      <td>Fireflies - Charttraxx Karaoke</td>\n",
       "      <td>3835</td>\n",
       "      <td>8.0</td>\n",
       "    </tr>\n",
       "    <tr>\n",
       "      <td>3485</td>\n",
       "      <td>90dbbbb47979f46ccdbc413d6b6e31cdb55aa58f</td>\n",
       "      <td>Hey_ Soul Sister - Train</td>\n",
       "      <td>3819</td>\n",
       "      <td>9.0</td>\n",
       "    </tr>\n",
       "    <tr>\n",
       "      <td>8847</td>\n",
       "      <td>90dbbbb47979f46ccdbc413d6b6e31cdb55aa58f</td>\n",
       "      <td>Tive Sim - Cartola</td>\n",
       "      <td>3707</td>\n",
       "      <td>10.0</td>\n",
       "    </tr>\n",
       "  </tbody>\n",
       "</table>\n",
       "</div>"
      ],
      "text/plain": [
       "                                       user_id  \\\n",
       "7127  90dbbbb47979f46ccdbc413d6b6e31cdb55aa58f   \n",
       "9084  90dbbbb47979f46ccdbc413d6b6e31cdb55aa58f   \n",
       "2068  90dbbbb47979f46ccdbc413d6b6e31cdb55aa58f   \n",
       "9880  90dbbbb47979f46ccdbc413d6b6e31cdb55aa58f   \n",
       "6774  90dbbbb47979f46ccdbc413d6b6e31cdb55aa58f   \n",
       "7115  90dbbbb47979f46ccdbc413d6b6e31cdb55aa58f   \n",
       "3613  90dbbbb47979f46ccdbc413d6b6e31cdb55aa58f   \n",
       "2717  90dbbbb47979f46ccdbc413d6b6e31cdb55aa58f   \n",
       "3485  90dbbbb47979f46ccdbc413d6b6e31cdb55aa58f   \n",
       "8847  90dbbbb47979f46ccdbc413d6b6e31cdb55aa58f   \n",
       "\n",
       "                                                   name  score  Rank  \n",
       "7127                           Sehr kosmisch - Harmonia   6630   1.0  \n",
       "9084                                       Undo - Björk   5639   2.0  \n",
       "2068  Dog Days Are Over (Radio Edit) - Florence + Th...   5592   3.0  \n",
       "9880                     You're The One - Dwight Yoakam   5143   4.0  \n",
       "6774                            Revelry - Kings Of Leon   4938   5.0  \n",
       "7115                              Secrets - OneRepublic   4627   6.0  \n",
       "3613  Horn Concerto No. 4 in E flat K495: II. Romanc...   4368   7.0  \n",
       "2717                     Fireflies - Charttraxx Karaoke   3835   8.0  \n",
       "3485                           Hey_ Soul Sister - Train   3819   9.0  \n",
       "8847                                 Tive Sim - Cartola   3707  10.0  "
      ]
     },
     "execution_count": 85,
     "metadata": {},
     "output_type": "execute_result"
    }
   ],
   "source": [
    "pm = Recommenders.popularity_recommender_py()\n",
    "pm.create(train_data, 'user_id', 'name')\n",
    "#user the popularity model to make some prediction\n",
    "pm.recommend(user_id)"
   ]
  }
 ],
 "metadata": {
  "kernelspec": {
   "display_name": "Python 3",
   "language": "python",
   "name": "python3"
  },
  "language_info": {
   "codemirror_mode": {
    "name": "ipython",
    "version": 3
   },
   "file_extension": ".py",
   "mimetype": "text/x-python",
   "name": "python",
   "nbconvert_exporter": "python",
   "pygments_lexer": "ipython3",
   "version": "3.7.4"
  }
 },
 "nbformat": 4,
 "nbformat_minor": 2
}
