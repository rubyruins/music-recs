{
 "cells": [
  {
   "cell_type": "code",
   "execution_count": 7,
   "metadata": {},
   "outputs": [],
   "source": [
    "import pandas as pd\n",
    "import numpy as np\n",
    "import os\n",
    "folder = os.getcwd()"
   ]
  },
  {
   "cell_type": "code",
   "execution_count": 9,
   "metadata": {},
   "outputs": [],
   "source": [
    "triplets = pd.read_table(folder+'\\\\data\\\\10000.txt', header=None, names=['user_id', 'song_id', 'listen_count'])\n",
    "metadata = pd.read_csv(folder+'\\\\data\\\\metadata.csv')"
   ]
  },
  {
   "cell_type": "code",
   "execution_count": null,
   "metadata": {},
   "outputs": [],
   "source": [
    "metadata"
   ]
  },
  {
   "cell_type": "code",
   "execution_count": 4,
   "metadata": {},
   "outputs": [],
   "source": [
    "songs = pd.merge(triplets, metadata.drop_duplicates(['song_id']), on='song_id', how='left')"
   ]
  },
  {
   "cell_type": "code",
   "execution_count": 5,
   "metadata": {},
   "outputs": [
    {
     "data": {
      "text/plain": [
       "2000000"
      ]
     },
     "execution_count": 5,
     "metadata": {},
     "output_type": "execute_result"
    }
   ],
   "source": [
    "len(songs)"
   ]
  },
  {
   "cell_type": "code",
   "execution_count": 11,
   "metadata": {},
   "outputs": [
    {
     "data": {
      "text/plain": [
       "2000000"
      ]
     },
     "execution_count": 11,
     "metadata": {},
     "output_type": "execute_result"
    }
   ],
   "source": [
    "len(songs)"
   ]
  },
  {
   "cell_type": "code",
   "execution_count": 7,
   "metadata": {},
   "outputs": [],
   "source": [
    "def full_name(title, artist):\n",
    "    return (title + ' - ' + artist)\n",
    "        \n",
    "songs['name'] = songs.apply(lambda x: full_name(x['title'], x['artist_name']), axis=1)"
   ]
  },
  {
   "cell_type": "code",
   "execution_count": 8,
   "metadata": {},
   "outputs": [
    {
     "data": {
      "text/plain": [
       "0                                    The Cove - Jack Johnson\n",
       "1                            Entre Dos Aguas - Paco De Lucia\n",
       "2                                      Stronger - Kanye West\n",
       "3                              Constellations - Jack Johnson\n",
       "4                                Learn To Fly - Foo Fighters\n",
       "                                 ...                        \n",
       "1999995                 Ignorance (Album Version) - Paramore\n",
       "1999996    Two Is Better Than One - Boys Like Girls featu...\n",
       "1999997         What I've Done (Album Version) - Linkin Park\n",
       "1999998                                   Up - Justin Bieber\n",
       "1999999          Soil_ Soil (Album Version) - Tegan And Sara\n",
       "Name: name, Length: 2000000, dtype: object"
      ]
     },
     "execution_count": 8,
     "metadata": {},
     "output_type": "execute_result"
    }
   ],
   "source": [
    "songs['name']"
   ]
  },
  {
   "cell_type": "code",
   "execution_count": 14,
   "metadata": {},
   "outputs": [],
   "source": [
    "songs_grouped = songs.groupby(['name']).agg({'listen_count': 'count'}).reset_index()\n",
    "total_listens = songs_grouped['listen_count'].sum()\n",
    "songs_grouped['percentage']  = songs_grouped['listen_count'].div(total_listens)*100\n",
    "songs_grouped = songs_grouped.sort_values(by='percentage', ascending=False)"
   ]
  },
  {
   "cell_type": "code",
   "execution_count": 15,
   "metadata": {},
   "outputs": [
    {
     "data": {
      "text/html": [
       "<div>\n",
       "<style scoped>\n",
       "    .dataframe tbody tr th:only-of-type {\n",
       "        vertical-align: middle;\n",
       "    }\n",
       "\n",
       "    .dataframe tbody tr th {\n",
       "        vertical-align: top;\n",
       "    }\n",
       "\n",
       "    .dataframe thead th {\n",
       "        text-align: right;\n",
       "    }\n",
       "</style>\n",
       "<table border=\"1\" class=\"dataframe\">\n",
       "  <thead>\n",
       "    <tr style=\"text-align: right;\">\n",
       "      <th></th>\n",
       "      <th>name</th>\n",
       "      <th>listen_count</th>\n",
       "      <th>percentage</th>\n",
       "    </tr>\n",
       "  </thead>\n",
       "  <tbody>\n",
       "    <tr>\n",
       "      <td>7127</td>\n",
       "      <td>Sehr kosmisch - Harmonia</td>\n",
       "      <td>8277</td>\n",
       "      <td>0.41385</td>\n",
       "    </tr>\n",
       "    <tr>\n",
       "      <td>9084</td>\n",
       "      <td>Undo - Björk</td>\n",
       "      <td>7032</td>\n",
       "      <td>0.35160</td>\n",
       "    </tr>\n",
       "    <tr>\n",
       "      <td>2068</td>\n",
       "      <td>Dog Days Are Over (Radio Edit) - Florence + Th...</td>\n",
       "      <td>6949</td>\n",
       "      <td>0.34745</td>\n",
       "    </tr>\n",
       "    <tr>\n",
       "      <td>9880</td>\n",
       "      <td>You're The One - Dwight Yoakam</td>\n",
       "      <td>6412</td>\n",
       "      <td>0.32060</td>\n",
       "    </tr>\n",
       "    <tr>\n",
       "      <td>6774</td>\n",
       "      <td>Revelry - Kings Of Leon</td>\n",
       "      <td>6145</td>\n",
       "      <td>0.30725</td>\n",
       "    </tr>\n",
       "    <tr>\n",
       "      <td>...</td>\n",
       "      <td>...</td>\n",
       "      <td>...</td>\n",
       "      <td>...</td>\n",
       "    </tr>\n",
       "    <tr>\n",
       "      <td>3526</td>\n",
       "      <td>Historia Del Portero - Ricardo Arjona</td>\n",
       "      <td>51</td>\n",
       "      <td>0.00255</td>\n",
       "    </tr>\n",
       "    <tr>\n",
       "      <td>7071</td>\n",
       "      <td>Scared - Three Days Grace</td>\n",
       "      <td>51</td>\n",
       "      <td>0.00255</td>\n",
       "    </tr>\n",
       "    <tr>\n",
       "      <td>2147</td>\n",
       "      <td>Don´t Leave Me Now - Amparanoia</td>\n",
       "      <td>50</td>\n",
       "      <td>0.00250</td>\n",
       "    </tr>\n",
       "    <tr>\n",
       "      <td>2991</td>\n",
       "      <td>Ghosts (Toxic Avenger Mix) - Ladytron</td>\n",
       "      <td>48</td>\n",
       "      <td>0.00240</td>\n",
       "    </tr>\n",
       "    <tr>\n",
       "      <td>5811</td>\n",
       "      <td>No Creo En El Jamas - Juanes</td>\n",
       "      <td>48</td>\n",
       "      <td>0.00240</td>\n",
       "    </tr>\n",
       "  </tbody>\n",
       "</table>\n",
       "<p>9953 rows × 3 columns</p>\n",
       "</div>"
      ],
      "text/plain": [
       "                                                   name  listen_count  \\\n",
       "7127                           Sehr kosmisch - Harmonia          8277   \n",
       "9084                                       Undo - Björk          7032   \n",
       "2068  Dog Days Are Over (Radio Edit) - Florence + Th...          6949   \n",
       "9880                     You're The One - Dwight Yoakam          6412   \n",
       "6774                            Revelry - Kings Of Leon          6145   \n",
       "...                                                 ...           ...   \n",
       "3526              Historia Del Portero - Ricardo Arjona            51   \n",
       "7071                          Scared - Three Days Grace            51   \n",
       "2147                    Don´t Leave Me Now - Amparanoia            50   \n",
       "2991              Ghosts (Toxic Avenger Mix) - Ladytron            48   \n",
       "5811                       No Creo En El Jamas - Juanes            48   \n",
       "\n",
       "      percentage  \n",
       "7127     0.41385  \n",
       "9084     0.35160  \n",
       "2068     0.34745  \n",
       "9880     0.32060  \n",
       "6774     0.30725  \n",
       "...          ...  \n",
       "3526     0.00255  \n",
       "7071     0.00255  \n",
       "2147     0.00250  \n",
       "2991     0.00240  \n",
       "5811     0.00240  \n",
       "\n",
       "[9953 rows x 3 columns]"
      ]
     },
     "execution_count": 15,
     "metadata": {},
     "output_type": "execute_result"
    }
   ],
   "source": [
    "songs_grouped"
   ]
  },
  {
   "cell_type": "code",
   "execution_count": 30,
   "metadata": {},
   "outputs": [],
   "source": [
    "songs_grouped.to_csv(folder+'\\\\songs_grouped.csv')"
   ]
  },
  {
   "cell_type": "code",
   "execution_count": 31,
   "metadata": {},
   "outputs": [],
   "source": [
    "songs.to_csv(folder+'\\\\songs.csv')"
   ]
  }
 ],
 "metadata": {
  "kernelspec": {
   "display_name": "Python 3",
   "language": "python",
   "name": "python3"
  },
  "language_info": {
   "codemirror_mode": {
    "name": "ipython",
    "version": 3
   },
   "file_extension": ".py",
   "mimetype": "text/x-python",
   "name": "python",
   "nbconvert_exporter": "python",
   "pygments_lexer": "ipython3",
   "version": "3.7.4"
  }
 },
 "nbformat": 4,
 "nbformat_minor": 2
}
