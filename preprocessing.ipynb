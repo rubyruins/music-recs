{
 "cells": [
  {
   "cell_type": "code",
   "execution_count": 1,
   "metadata": {},
   "outputs": [],
   "source": [
    "import pandas as pd\n",
    "import numpy as np\n",
    "import os\n",
    "folder = os.getcwd()"
   ]
  },
  {
   "cell_type": "code",
   "execution_count": 69,
   "metadata": {},
   "outputs": [],
   "source": [
    "triplets = pd.read_table(folder+'\\\\data\\\\10000.txt', header=None, names=['user_id', 'song_id', 'listen_count'])\n",
    "metadata = pd.read_csv(folder+'\\\\data\\\\metadata.csv')"
   ]
  },
  {
   "cell_type": "code",
   "execution_count": 62,
   "metadata": {},
   "outputs": [
    {
     "data": {
      "text/plain": [
       "2000000"
      ]
     },
     "execution_count": 62,
     "metadata": {},
     "output_type": "execute_result"
    }
   ],
   "source": [
    "len(triplets)"
   ]
  },
  {
   "cell_type": "code",
   "execution_count": 70,
   "metadata": {},
   "outputs": [],
   "source": [
    "# shuffle the data and only use 5% of it due to time and space constraints\n",
    "triplets = triplets.sample(frac=0.05)"
   ]
  },
  {
   "cell_type": "code",
   "execution_count": 71,
   "metadata": {},
   "outputs": [
    {
     "data": {
      "text/plain": [
       "100000"
      ]
     },
     "execution_count": 71,
     "metadata": {},
     "output_type": "execute_result"
    }
   ],
   "source": [
    "# 100000 rows out of 2000000 will be used\n",
    "len(triplets)"
   ]
  },
  {
   "cell_type": "code",
   "execution_count": 72,
   "metadata": {},
   "outputs": [
    {
     "data": {
      "text/html": [
       "<div>\n",
       "<style scoped>\n",
       "    .dataframe tbody tr th:only-of-type {\n",
       "        vertical-align: middle;\n",
       "    }\n",
       "\n",
       "    .dataframe tbody tr th {\n",
       "        vertical-align: top;\n",
       "    }\n",
       "\n",
       "    .dataframe thead th {\n",
       "        text-align: right;\n",
       "    }\n",
       "</style>\n",
       "<table border=\"1\" class=\"dataframe\">\n",
       "  <thead>\n",
       "    <tr style=\"text-align: right;\">\n",
       "      <th></th>\n",
       "      <th>user_id</th>\n",
       "      <th>song_id</th>\n",
       "      <th>listen_count</th>\n",
       "    </tr>\n",
       "  </thead>\n",
       "  <tbody>\n",
       "    <tr>\n",
       "      <td>1955481</td>\n",
       "      <td>63e7a5b340455557e4ab6fd10be9ea77db5098bb</td>\n",
       "      <td>SORALYQ12A8151BA99</td>\n",
       "      <td>2</td>\n",
       "    </tr>\n",
       "    <tr>\n",
       "      <td>1076018</td>\n",
       "      <td>54544dc6bc8215524eb741b6ab5c663d5c08a70d</td>\n",
       "      <td>SOTYLCV12A8C143772</td>\n",
       "      <td>2</td>\n",
       "    </tr>\n",
       "    <tr>\n",
       "      <td>1886591</td>\n",
       "      <td>e0cfa6a0969431d0e003bbe008d43642035be3f5</td>\n",
       "      <td>SOJOZTM12A8C140618</td>\n",
       "      <td>4</td>\n",
       "    </tr>\n",
       "    <tr>\n",
       "      <td>1973901</td>\n",
       "      <td>e499025001ec296493f408d871e99c5a95ee50f8</td>\n",
       "      <td>SOSDBDE12A6D4F9CFB</td>\n",
       "      <td>2</td>\n",
       "    </tr>\n",
       "    <tr>\n",
       "      <td>1354100</td>\n",
       "      <td>550ceb6944de5c77e3a925540a0ad5ac5fd53487</td>\n",
       "      <td>SOTEKHA12A6D4F8466</td>\n",
       "      <td>1</td>\n",
       "    </tr>\n",
       "    <tr>\n",
       "      <td>...</td>\n",
       "      <td>...</td>\n",
       "      <td>...</td>\n",
       "      <td>...</td>\n",
       "    </tr>\n",
       "    <tr>\n",
       "      <td>675654</td>\n",
       "      <td>e0eccbcb8b227b68c0a1a4de849793472b862a3b</td>\n",
       "      <td>SOGPNGN12A8C143969</td>\n",
       "      <td>2</td>\n",
       "    </tr>\n",
       "    <tr>\n",
       "      <td>1083181</td>\n",
       "      <td>8a4fe8fe23cbf7bb269d7eb0f5528d7487fbfb33</td>\n",
       "      <td>SOWEHOM12A6BD4E09E</td>\n",
       "      <td>1</td>\n",
       "    </tr>\n",
       "    <tr>\n",
       "      <td>425427</td>\n",
       "      <td>46c309056e4a2a7aa09c50cd32071fc356ca7a3b</td>\n",
       "      <td>SOQXHSQ12A8C141F53</td>\n",
       "      <td>1</td>\n",
       "    </tr>\n",
       "    <tr>\n",
       "      <td>530473</td>\n",
       "      <td>02eb950d2cf20d659de726ca1e13b190917923d0</td>\n",
       "      <td>SOPXKYD12A6D4FA876</td>\n",
       "      <td>1</td>\n",
       "    </tr>\n",
       "    <tr>\n",
       "      <td>1850640</td>\n",
       "      <td>4a25d0f270251013bfd2dc836b9767c78c92f04f</td>\n",
       "      <td>SOVIKOY12AB018627D</td>\n",
       "      <td>8</td>\n",
       "    </tr>\n",
       "  </tbody>\n",
       "</table>\n",
       "<p>23905 rows × 3 columns</p>\n",
       "</div>"
      ],
      "text/plain": [
       "                                          user_id             song_id  \\\n",
       "1955481  63e7a5b340455557e4ab6fd10be9ea77db5098bb  SORALYQ12A8151BA99   \n",
       "1076018  54544dc6bc8215524eb741b6ab5c663d5c08a70d  SOTYLCV12A8C143772   \n",
       "1886591  e0cfa6a0969431d0e003bbe008d43642035be3f5  SOJOZTM12A8C140618   \n",
       "1973901  e499025001ec296493f408d871e99c5a95ee50f8  SOSDBDE12A6D4F9CFB   \n",
       "1354100  550ceb6944de5c77e3a925540a0ad5ac5fd53487  SOTEKHA12A6D4F8466   \n",
       "...                                           ...                 ...   \n",
       "675654   e0eccbcb8b227b68c0a1a4de849793472b862a3b  SOGPNGN12A8C143969   \n",
       "1083181  8a4fe8fe23cbf7bb269d7eb0f5528d7487fbfb33  SOWEHOM12A6BD4E09E   \n",
       "425427   46c309056e4a2a7aa09c50cd32071fc356ca7a3b  SOQXHSQ12A8C141F53   \n",
       "530473   02eb950d2cf20d659de726ca1e13b190917923d0  SOPXKYD12A6D4FA876   \n",
       "1850640  4a25d0f270251013bfd2dc836b9767c78c92f04f  SOVIKOY12AB018627D   \n",
       "\n",
       "         listen_count  \n",
       "1955481             2  \n",
       "1076018             2  \n",
       "1886591             4  \n",
       "1973901             2  \n",
       "1354100             1  \n",
       "...               ...  \n",
       "675654              2  \n",
       "1083181             1  \n",
       "425427              1  \n",
       "530473              1  \n",
       "1850640             8  \n",
       "\n",
       "[23905 rows x 3 columns]"
      ]
     },
     "execution_count": 72,
     "metadata": {},
     "output_type": "execute_result"
    }
   ],
   "source": [
    "# verifying that considerable number of users have listened to atleast 5 songs, hence useful in item-item filtering\n",
    "triplets.groupby(['user_id']).filter(lambda x: len(x) >5)"
   ]
  },
  {
   "cell_type": "code",
   "execution_count": 73,
   "metadata": {},
   "outputs": [
    {
     "data": {
      "text/plain": [
       "26"
      ]
     },
     "execution_count": 73,
     "metadata": {},
     "output_type": "execute_result"
    }
   ],
   "source": [
    "len(triplets[triplets.user_id == '9fb0717a34c90c91ce09ab460969a8a428d3ac87'])"
   ]
  },
  {
   "cell_type": "code",
   "execution_count": 74,
   "metadata": {},
   "outputs": [],
   "source": [
    "songs = pd.merge(triplets, metadata.drop_duplicates(['song_id']), on='song_id', how='left')"
   ]
  },
  {
   "cell_type": "code",
   "execution_count": 75,
   "metadata": {},
   "outputs": [
    {
     "data": {
      "text/plain": [
       "100000"
      ]
     },
     "execution_count": 75,
     "metadata": {},
     "output_type": "execute_result"
    }
   ],
   "source": [
    "len(songs)"
   ]
  },
  {
   "cell_type": "code",
   "execution_count": 76,
   "metadata": {},
   "outputs": [
    {
     "data": {
      "text/plain": [
       "100000"
      ]
     },
     "execution_count": 76,
     "metadata": {},
     "output_type": "execute_result"
    }
   ],
   "source": [
    "len(songs)"
   ]
  },
  {
   "cell_type": "code",
   "execution_count": 77,
   "metadata": {},
   "outputs": [],
   "source": [
    "def full_name(title, artist):\n",
    "    return (title + ' - ' + artist)\n",
    "        \n",
    "songs['name'] = songs.apply(lambda x: full_name(x['title'], x['artist_name']), axis=1)"
   ]
  },
  {
   "cell_type": "code",
   "execution_count": 78,
   "metadata": {},
   "outputs": [
    {
     "data": {
      "text/plain": [
       "0                    Make Love To Your Mind - Bill Withers\n",
       "1                         If I Ain't Got You - Alicia Keys\n",
       "2                          Check Yes Juliet - We The Kings\n",
       "3                                         Aja - Steely Dan\n",
       "4        Bla Bla Bla (Abbentenza In FM Mix) - Gigi D'ag...\n",
       "                               ...                        \n",
       "99995          Tomorrow's World feat. Lacks - Harvey Lindo\n",
       "99996                              Outshined - Soundgarden\n",
       "99997                    I'll Be Your Man - The Black Keys\n",
       "99998                                    Yellow - Coldplay\n",
       "99999                                 Pojo Pojo - Cyberfit\n",
       "Name: name, Length: 100000, dtype: object"
      ]
     },
     "execution_count": 78,
     "metadata": {},
     "output_type": "execute_result"
    }
   ],
   "source": [
    "songs['name']"
   ]
  },
  {
   "cell_type": "code",
   "execution_count": 79,
   "metadata": {},
   "outputs": [],
   "source": [
    "songs_grouped = songs.groupby(['name']).agg({'listen_count': 'count'}).reset_index()\n",
    "total_listens = songs_grouped['listen_count'].sum()\n",
    "songs_grouped['percentage']  = songs_grouped['listen_count'].div(total_listens)*100\n",
    "songs_grouped = songs_grouped.sort_values(by='percentage', ascending=False)"
   ]
  },
  {
   "cell_type": "code",
   "execution_count": 88,
   "metadata": {},
   "outputs": [
    {
     "data": {
      "text/html": [
       "<div>\n",
       "<style scoped>\n",
       "    .dataframe tbody tr th:only-of-type {\n",
       "        vertical-align: middle;\n",
       "    }\n",
       "\n",
       "    .dataframe tbody tr th {\n",
       "        vertical-align: top;\n",
       "    }\n",
       "\n",
       "    .dataframe thead th {\n",
       "        text-align: right;\n",
       "    }\n",
       "</style>\n",
       "<table border=\"1\" class=\"dataframe\">\n",
       "  <thead>\n",
       "    <tr style=\"text-align: right;\">\n",
       "      <th></th>\n",
       "      <th>name</th>\n",
       "      <th>listen_count</th>\n",
       "      <th>percentage</th>\n",
       "    </tr>\n",
       "  </thead>\n",
       "  <tbody>\n",
       "    <tr>\n",
       "      <td>7078</td>\n",
       "      <td>Sehr kosmisch - Harmonia</td>\n",
       "      <td>418</td>\n",
       "      <td>0.418</td>\n",
       "    </tr>\n",
       "    <tr>\n",
       "      <td>9017</td>\n",
       "      <td>Undo - Björk</td>\n",
       "      <td>361</td>\n",
       "      <td>0.361</td>\n",
       "    </tr>\n",
       "    <tr>\n",
       "      <td>2053</td>\n",
       "      <td>Dog Days Are Over (Radio Edit) - Florence + Th...</td>\n",
       "      <td>359</td>\n",
       "      <td>0.359</td>\n",
       "    </tr>\n",
       "    <tr>\n",
       "      <td>9808</td>\n",
       "      <td>You're The One - Dwight Yoakam</td>\n",
       "      <td>353</td>\n",
       "      <td>0.353</td>\n",
       "    </tr>\n",
       "    <tr>\n",
       "      <td>7066</td>\n",
       "      <td>Secrets - OneRepublic</td>\n",
       "      <td>287</td>\n",
       "      <td>0.287</td>\n",
       "    </tr>\n",
       "    <tr>\n",
       "      <td>...</td>\n",
       "      <td>...</td>\n",
       "      <td>...</td>\n",
       "      <td>...</td>\n",
       "    </tr>\n",
       "    <tr>\n",
       "      <td>3143</td>\n",
       "      <td>Gotta Eat (Explicit Album Version) - Lupe Fiasco</td>\n",
       "      <td>1</td>\n",
       "      <td>0.001</td>\n",
       "    </tr>\n",
       "    <tr>\n",
       "      <td>7819</td>\n",
       "      <td>Suddenly You Figure Out - Scott Matthews</td>\n",
       "      <td>1</td>\n",
       "      <td>0.001</td>\n",
       "    </tr>\n",
       "    <tr>\n",
       "      <td>5729</td>\n",
       "      <td>Next To You   (Explicit Album Version) - Mike ...</td>\n",
       "      <td>1</td>\n",
       "      <td>0.001</td>\n",
       "    </tr>\n",
       "    <tr>\n",
       "      <td>427</td>\n",
       "      <td>American Wedding - Gogol Bordello</td>\n",
       "      <td>1</td>\n",
       "      <td>0.001</td>\n",
       "    </tr>\n",
       "    <tr>\n",
       "      <td>4599</td>\n",
       "      <td>La Soledad - Pink Martini</td>\n",
       "      <td>1</td>\n",
       "      <td>0.001</td>\n",
       "    </tr>\n",
       "  </tbody>\n",
       "</table>\n",
       "<p>9881 rows × 3 columns</p>\n",
       "</div>"
      ],
      "text/plain": [
       "                                                   name  listen_count  \\\n",
       "7078                           Sehr kosmisch - Harmonia           418   \n",
       "9017                                       Undo - Björk           361   \n",
       "2053  Dog Days Are Over (Radio Edit) - Florence + Th...           359   \n",
       "9808                     You're The One - Dwight Yoakam           353   \n",
       "7066                              Secrets - OneRepublic           287   \n",
       "...                                                 ...           ...   \n",
       "3143   Gotta Eat (Explicit Album Version) - Lupe Fiasco             1   \n",
       "7819           Suddenly You Figure Out - Scott Matthews             1   \n",
       "5729  Next To You   (Explicit Album Version) - Mike ...             1   \n",
       "427                   American Wedding - Gogol Bordello             1   \n",
       "4599                          La Soledad - Pink Martini             1   \n",
       "\n",
       "      percentage  \n",
       "7078       0.418  \n",
       "9017       0.361  \n",
       "2053       0.359  \n",
       "9808       0.353  \n",
       "7066       0.287  \n",
       "...          ...  \n",
       "3143       0.001  \n",
       "7819       0.001  \n",
       "5729       0.001  \n",
       "427        0.001  \n",
       "4599       0.001  \n",
       "\n",
       "[9881 rows x 3 columns]"
      ]
     },
     "execution_count": 88,
     "metadata": {},
     "output_type": "execute_result"
    }
   ],
   "source": [
    "songs_grouped"
   ]
  },
  {
   "cell_type": "code",
   "execution_count": 30,
   "metadata": {},
   "outputs": [],
   "source": [
    "songs_grouped.to_csv(folder+'\\\\songs_grouped.csv')"
   ]
  },
  {
   "cell_type": "code",
   "execution_count": 81,
   "metadata": {},
   "outputs": [],
   "source": [
    "songs.to_csv(folder+'\\\\songs_merged_100000.csv')"
   ]
  }
 ],
 "metadata": {
  "kernelspec": {
   "display_name": "Python 3",
   "language": "python",
   "name": "python3"
  },
  "language_info": {
   "codemirror_mode": {
    "name": "ipython",
    "version": 3
   },
   "file_extension": ".py",
   "mimetype": "text/x-python",
   "name": "python",
   "nbconvert_exporter": "python",
   "pygments_lexer": "ipython3",
   "version": "3.7.4"
  }
 },
 "nbformat": 4,
 "nbformat_minor": 2
}
