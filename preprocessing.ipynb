{
 "cells": [
  {
   "cell_type": "code",
   "execution_count": 1,
   "metadata": {},
   "outputs": [],
   "source": [
    "import pandas as pd\n",
    "import numpy as np\n",
    "import os\n",
    "folder = os.getcwd()"
   ]
  },
  {
   "cell_type": "code",
   "execution_count": 2,
   "metadata": {},
   "outputs": [],
   "source": [
    "triplets = pd.read_table(folder+'\\\\data\\\\10000.txt', header=None, names=['user_id', 'song_id', 'listen_count'])\n",
    "metadata = pd.read_csv(folder+'\\\\data\\\\metadata.csv')"
   ]
  },
  {
   "cell_type": "code",
   "execution_count": 3,
   "metadata": {},
   "outputs": [
    {
     "data": {
      "text/plain": [
       "2000000"
      ]
     },
     "execution_count": 3,
     "metadata": {},
     "output_type": "execute_result"
    }
   ],
   "source": [
    "len(triplets)"
   ]
  },
  {
   "cell_type": "code",
   "execution_count": 4,
   "metadata": {},
   "outputs": [],
   "source": [
    "# shuffle the data and only use 1% of it due to time and space constraints\n",
    "triplets = triplets.sample(frac=0.01, random_state=2)"
   ]
  },
  {
   "cell_type": "code",
   "execution_count": 5,
   "metadata": {},
   "outputs": [
    {
     "data": {
      "text/plain": [
       "20000"
      ]
     },
     "execution_count": 5,
     "metadata": {},
     "output_type": "execute_result"
    }
   ],
   "source": [
    "# 100000 rows out of 2000000 will be used\n",
    "len(triplets)"
   ]
  },
  {
   "cell_type": "code",
   "execution_count": 6,
   "metadata": {},
   "outputs": [
    {
     "data": {
      "text/html": [
       "<div>\n",
       "<style scoped>\n",
       "    .dataframe tbody tr th:only-of-type {\n",
       "        vertical-align: middle;\n",
       "    }\n",
       "\n",
       "    .dataframe tbody tr th {\n",
       "        vertical-align: top;\n",
       "    }\n",
       "\n",
       "    .dataframe thead th {\n",
       "        text-align: right;\n",
       "    }\n",
       "</style>\n",
       "<table border=\"1\" class=\"dataframe\">\n",
       "  <thead>\n",
       "    <tr style=\"text-align: right;\">\n",
       "      <th></th>\n",
       "      <th>user_id</th>\n",
       "      <th>song_id</th>\n",
       "      <th>listen_count</th>\n",
       "    </tr>\n",
       "  </thead>\n",
       "  <tbody>\n",
       "    <tr>\n",
       "      <td>1684075</td>\n",
       "      <td>a33c98d68030392526e4bef6d8126febbaf9be09</td>\n",
       "      <td>SOTCDXR12A679D7E5E</td>\n",
       "      <td>1</td>\n",
       "    </tr>\n",
       "    <tr>\n",
       "      <td>1594010</td>\n",
       "      <td>a15075a926c1998d91940f118342ba8356efc7d4</td>\n",
       "      <td>SOEBOWM12AB017F279</td>\n",
       "      <td>1</td>\n",
       "    </tr>\n",
       "    <tr>\n",
       "      <td>1756086</td>\n",
       "      <td>78f41a23ef3176c1d0a2fe59da2d0d511c689dd3</td>\n",
       "      <td>SOSJFDH12A8C143096</td>\n",
       "      <td>1</td>\n",
       "    </tr>\n",
       "    <tr>\n",
       "      <td>1428380</td>\n",
       "      <td>f82c096234fbadc0c7458b96fbacf000ba2d62b8</td>\n",
       "      <td>SOXVVSM12A8C142224</td>\n",
       "      <td>1</td>\n",
       "    </tr>\n",
       "    <tr>\n",
       "      <td>831928</td>\n",
       "      <td>5dffd87b491c26afe6b45ac0b9e60d4cf12e572e</td>\n",
       "      <td>SOCUBFV12AB01810BB</td>\n",
       "      <td>2</td>\n",
       "    </tr>\n",
       "    <tr>\n",
       "      <td>...</td>\n",
       "      <td>...</td>\n",
       "      <td>...</td>\n",
       "      <td>...</td>\n",
       "    </tr>\n",
       "    <tr>\n",
       "      <td>1594043</td>\n",
       "      <td>a15075a926c1998d91940f118342ba8356efc7d4</td>\n",
       "      <td>SOFLMUK12A8C132CDC</td>\n",
       "      <td>1</td>\n",
       "    </tr>\n",
       "    <tr>\n",
       "      <td>1826940</td>\n",
       "      <td>2b0bf093e23c6d98b94f0ceeff45230a7769414e</td>\n",
       "      <td>SOSPXWA12AB0181875</td>\n",
       "      <td>4</td>\n",
       "    </tr>\n",
       "    <tr>\n",
       "      <td>1297646</td>\n",
       "      <td>790cd3209a60dbe386545179e5ba8f61357fffe9</td>\n",
       "      <td>SORMGEO12A8C14406D</td>\n",
       "      <td>2</td>\n",
       "    </tr>\n",
       "    <tr>\n",
       "      <td>1297670</td>\n",
       "      <td>790cd3209a60dbe386545179e5ba8f61357fffe9</td>\n",
       "      <td>SOUFTBI12AB0183F65</td>\n",
       "      <td>2</td>\n",
       "    </tr>\n",
       "    <tr>\n",
       "      <td>654952</td>\n",
       "      <td>4fa22edbfd4fcebb74956c8701e20b15fa1fc3e8</td>\n",
       "      <td>SOWKGCO12AC4687E42</td>\n",
       "      <td>1</td>\n",
       "    </tr>\n",
       "  </tbody>\n",
       "</table>\n",
       "<p>235 rows × 3 columns</p>\n",
       "</div>"
      ],
      "text/plain": [
       "                                          user_id             song_id  \\\n",
       "1684075  a33c98d68030392526e4bef6d8126febbaf9be09  SOTCDXR12A679D7E5E   \n",
       "1594010  a15075a926c1998d91940f118342ba8356efc7d4  SOEBOWM12AB017F279   \n",
       "1756086  78f41a23ef3176c1d0a2fe59da2d0d511c689dd3  SOSJFDH12A8C143096   \n",
       "1428380  f82c096234fbadc0c7458b96fbacf000ba2d62b8  SOXVVSM12A8C142224   \n",
       "831928   5dffd87b491c26afe6b45ac0b9e60d4cf12e572e  SOCUBFV12AB01810BB   \n",
       "...                                           ...                 ...   \n",
       "1594043  a15075a926c1998d91940f118342ba8356efc7d4  SOFLMUK12A8C132CDC   \n",
       "1826940  2b0bf093e23c6d98b94f0ceeff45230a7769414e  SOSPXWA12AB0181875   \n",
       "1297646  790cd3209a60dbe386545179e5ba8f61357fffe9  SORMGEO12A8C14406D   \n",
       "1297670  790cd3209a60dbe386545179e5ba8f61357fffe9  SOUFTBI12AB0183F65   \n",
       "654952   4fa22edbfd4fcebb74956c8701e20b15fa1fc3e8  SOWKGCO12AC4687E42   \n",
       "\n",
       "         listen_count  \n",
       "1684075             1  \n",
       "1594010             1  \n",
       "1756086             1  \n",
       "1428380             1  \n",
       "831928              2  \n",
       "...               ...  \n",
       "1594043             1  \n",
       "1826940             4  \n",
       "1297646             2  \n",
       "1297670             2  \n",
       "654952              1  \n",
       "\n",
       "[235 rows x 3 columns]"
      ]
     },
     "execution_count": 6,
     "metadata": {},
     "output_type": "execute_result"
    }
   ],
   "source": [
    "# verifying that considerable number of users have listened to atleast 5 songs, hence useful in item-item filtering\n",
    "triplets.groupby(['user_id']).filter(lambda x: len(x) > 5)"
   ]
  },
  {
   "cell_type": "code",
   "execution_count": 7,
   "metadata": {},
   "outputs": [
    {
     "data": {
      "text/plain": [
       "5"
      ]
     },
     "execution_count": 7,
     "metadata": {},
     "output_type": "execute_result"
    }
   ],
   "source": [
    "len(triplets[triplets.user_id == '9fb0717a34c90c91ce09ab460969a8a428d3ac87'])"
   ]
  },
  {
   "cell_type": "code",
   "execution_count": 8,
   "metadata": {},
   "outputs": [],
   "source": [
    "songs = pd.merge(triplets, metadata.drop_duplicates(['song_id']), on='song_id', how='left')"
   ]
  },
  {
   "cell_type": "code",
   "execution_count": 9,
   "metadata": {},
   "outputs": [
    {
     "data": {
      "text/plain": [
       "20000"
      ]
     },
     "execution_count": 9,
     "metadata": {},
     "output_type": "execute_result"
    }
   ],
   "source": [
    "len(songs)"
   ]
  },
  {
   "cell_type": "code",
   "execution_count": 10,
   "metadata": {},
   "outputs": [
    {
     "data": {
      "text/plain": [
       "20000"
      ]
     },
     "execution_count": 10,
     "metadata": {},
     "output_type": "execute_result"
    }
   ],
   "source": [
    "len(songs)"
   ]
  },
  {
   "cell_type": "code",
   "execution_count": 11,
   "metadata": {},
   "outputs": [],
   "source": [
    "def full_name(title, artist):\n",
    "    return (title + ' - ' + artist)\n",
    "        \n",
    "songs['name'] = songs.apply(lambda x: full_name(x['title'], x['artist_name']), axis=1)"
   ]
  },
  {
   "cell_type": "code",
   "execution_count": 12,
   "metadata": {},
   "outputs": [
    {
     "data": {
      "text/plain": [
       "0                 Shove It [feat. SpankRock] - Santogold\n",
       "1              Loving You [Album Version] - Paolo Nutini\n",
       "2                Far Behind  (Album Version) - Candlebox\n",
       "3                     The Dirty Glass - Dropkick Murphys\n",
       "4                           Tone Bank Jungle - Holy Fuck\n",
       "                              ...                       \n",
       "19995                      Throw Me A Rope - KT Tunstall\n",
       "19996               Naturally - Selena Gomez & The Scene\n",
       "19997                     Mr. Brownstone - Guns N' Roses\n",
       "19998                             Toxic - Britney Spears\n",
       "19999    Get Ready To Bounce Recall 08 - Brooklyn Bounce\n",
       "Name: name, Length: 20000, dtype: object"
      ]
     },
     "execution_count": 12,
     "metadata": {},
     "output_type": "execute_result"
    }
   ],
   "source": [
    "songs['name']"
   ]
  },
  {
   "cell_type": "code",
   "execution_count": 13,
   "metadata": {},
   "outputs": [],
   "source": [
    "songs_grouped = songs.groupby(['name']).agg({'listen_count': 'count'}).reset_index()\n",
    "total_listens = songs_grouped['listen_count'].sum()\n",
    "songs_grouped['percentage']  = songs_grouped['listen_count'].div(total_listens)*100\n",
    "songs_grouped = songs_grouped.sort_values(by='percentage', ascending=False)"
   ]
  },
  {
   "cell_type": "code",
   "execution_count": 14,
   "metadata": {},
   "outputs": [
    {
     "data": {
      "text/html": [
       "<div>\n",
       "<style scoped>\n",
       "    .dataframe tbody tr th:only-of-type {\n",
       "        vertical-align: middle;\n",
       "    }\n",
       "\n",
       "    .dataframe tbody tr th {\n",
       "        vertical-align: top;\n",
       "    }\n",
       "\n",
       "    .dataframe thead th {\n",
       "        text-align: right;\n",
       "    }\n",
       "</style>\n",
       "<table border=\"1\" class=\"dataframe\">\n",
       "  <thead>\n",
       "    <tr style=\"text-align: right;\">\n",
       "      <th></th>\n",
       "      <th>name</th>\n",
       "      <th>listen_count</th>\n",
       "      <th>percentage</th>\n",
       "    </tr>\n",
       "  </thead>\n",
       "  <tbody>\n",
       "    <tr>\n",
       "      <td>5116</td>\n",
       "      <td>Sehr kosmisch - Harmonia</td>\n",
       "      <td>80</td>\n",
       "      <td>0.400</td>\n",
       "    </tr>\n",
       "    <tr>\n",
       "      <td>4859</td>\n",
       "      <td>Revelry - Kings Of Leon</td>\n",
       "      <td>76</td>\n",
       "      <td>0.380</td>\n",
       "    </tr>\n",
       "    <tr>\n",
       "      <td>6574</td>\n",
       "      <td>Undo - Björk</td>\n",
       "      <td>75</td>\n",
       "      <td>0.375</td>\n",
       "    </tr>\n",
       "    <tr>\n",
       "      <td>7155</td>\n",
       "      <td>You're The One - Dwight Yoakam</td>\n",
       "      <td>68</td>\n",
       "      <td>0.340</td>\n",
       "    </tr>\n",
       "    <tr>\n",
       "      <td>1473</td>\n",
       "      <td>Dog Days Are Over (Radio Edit) - Florence + Th...</td>\n",
       "      <td>61</td>\n",
       "      <td>0.305</td>\n",
       "    </tr>\n",
       "    <tr>\n",
       "      <td>...</td>\n",
       "      <td>...</td>\n",
       "      <td>...</td>\n",
       "      <td>...</td>\n",
       "    </tr>\n",
       "    <tr>\n",
       "      <td>3421</td>\n",
       "      <td>Les Garçons Dans Les Vestiaires - Clarika</td>\n",
       "      <td>1</td>\n",
       "      <td>0.005</td>\n",
       "    </tr>\n",
       "    <tr>\n",
       "      <td>3423</td>\n",
       "      <td>Leslie Anne Levine - The Decemberists</td>\n",
       "      <td>1</td>\n",
       "      <td>0.005</td>\n",
       "    </tr>\n",
       "    <tr>\n",
       "      <td>3428</td>\n",
       "      <td>Let It Go - Keyshia Cole / Missy Elliott / Lil...</td>\n",
       "      <td>1</td>\n",
       "      <td>0.005</td>\n",
       "    </tr>\n",
       "    <tr>\n",
       "      <td>3429</td>\n",
       "      <td>Let It Loose (Album Version) - The Rolling Stones</td>\n",
       "      <td>1</td>\n",
       "      <td>0.005</td>\n",
       "    </tr>\n",
       "    <tr>\n",
       "      <td>7209</td>\n",
       "      <td>Época - Gotan Project</td>\n",
       "      <td>1</td>\n",
       "      <td>0.005</td>\n",
       "    </tr>\n",
       "  </tbody>\n",
       "</table>\n",
       "<p>7210 rows × 3 columns</p>\n",
       "</div>"
      ],
      "text/plain": [
       "                                                   name  listen_count  \\\n",
       "5116                           Sehr kosmisch - Harmonia            80   \n",
       "4859                            Revelry - Kings Of Leon            76   \n",
       "6574                                       Undo - Björk            75   \n",
       "7155                     You're The One - Dwight Yoakam            68   \n",
       "1473  Dog Days Are Over (Radio Edit) - Florence + Th...            61   \n",
       "...                                                 ...           ...   \n",
       "3421          Les Garçons Dans Les Vestiaires - Clarika             1   \n",
       "3423              Leslie Anne Levine - The Decemberists             1   \n",
       "3428  Let It Go - Keyshia Cole / Missy Elliott / Lil...             1   \n",
       "3429  Let It Loose (Album Version) - The Rolling Stones             1   \n",
       "7209                              Época - Gotan Project             1   \n",
       "\n",
       "      percentage  \n",
       "5116       0.400  \n",
       "4859       0.380  \n",
       "6574       0.375  \n",
       "7155       0.340  \n",
       "1473       0.305  \n",
       "...          ...  \n",
       "3421       0.005  \n",
       "3423       0.005  \n",
       "3428       0.005  \n",
       "3429       0.005  \n",
       "7209       0.005  \n",
       "\n",
       "[7210 rows x 3 columns]"
      ]
     },
     "execution_count": 14,
     "metadata": {},
     "output_type": "execute_result"
    }
   ],
   "source": [
    "songs_grouped"
   ]
  },
  {
   "cell_type": "code",
   "execution_count": 30,
   "metadata": {},
   "outputs": [],
   "source": [
    "songs_grouped.to_csv(folder+'\\\\songs_grouped.csv')"
   ]
  },
  {
   "cell_type": "code",
   "execution_count": 30,
   "metadata": {},
   "outputs": [],
   "source": [
    "songs.to_csv(folder+'\\\\songs_merged_20000.csv')"
   ]
  }
 ],
 "metadata": {
  "kernelspec": {
   "display_name": "Python 3",
   "language": "python",
   "name": "python3"
  },
  "language_info": {
   "codemirror_mode": {
    "name": "ipython",
    "version": 3
   },
   "file_extension": ".py",
   "mimetype": "text/x-python",
   "name": "python",
   "nbconvert_exporter": "python",
   "pygments_lexer": "ipython3",
   "version": "3.7.4"
  }
 },
 "nbformat": 4,
 "nbformat_minor": 2
}
